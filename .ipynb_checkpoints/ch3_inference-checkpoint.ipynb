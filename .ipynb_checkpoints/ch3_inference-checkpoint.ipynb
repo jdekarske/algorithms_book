{
 "cells": [
  {
   "cell_type": "code",
   "execution_count": 1,
   "id": "8dde815a",
   "metadata": {},
   "outputs": [
    {
     "data": {
      "text/plain": [
       "infer (generic function with 1 method)"
      ]
     },
     "execution_count": 1,
     "metadata": {},
     "output_type": "execute_result"
    }
   ],
   "source": [
    "include(\"ch3.jl\")"
   ]
  },
  {
   "cell_type": "markdown",
   "id": "f77afb56",
   "metadata": {},
   "source": [
    "#### Example 3.1"
   ]
  },
  {
   "cell_type": "code",
   "execution_count": 6,
   "id": "7503d0fb",
   "metadata": {},
   "outputs": [
    {
     "ename": "UndefVarError",
     "evalue": "\u001b[91mUndefVarError: product not defined\u001b[39m",
     "output_type": "error",
     "traceback": [
      "\u001b[91mUndefVarError: product not defined\u001b[39m",
      "",
      "Stacktrace:",
      " [1] assignments(::Array{Variable,1}) at /home/tammer/Algorithms_Book/ch2.jl:32",
      " [2] *(::Factor, ::Factor) at ./In[2]:7",
      " [3] top-level scope at In[6]:10"
     ]
    }
   ],
   "source": [
    "X = Variable(:x, 2); Y = Variable(:y, 2); Z = Variable(:z, 2)\n",
    "\n",
    "ϕ1 = Factor([X, Y], FactorTable(\n",
    "            (x=0,y=0) => 0.3, (x=0,y=1) => 0.4,\n",
    "            (x=1,y=0) => 0.2, (x=1,y=1) => 0.1))\n",
    "\n",
    "ϕ2 = Factor([Y, Z], FactorTable(\n",
    "            (y=0,z=0) => 0.2, (y=0,z=1) => 0.0,\n",
    "            (y=1,z=0) => 0.3, (y=1,z=1) => 0.5))\n",
    "\n",
    "# ϕ1*ϕ2"
   ]
  },
  {
   "cell_type": "code",
   "execution_count": 4,
   "id": "f6ea5c93",
   "metadata": {},
   "outputs": [
    {
     "ename": "UndefVarError",
     "evalue": "\u001b[91mUndefVarError: marglinal not defined\u001b[39m",
     "output_type": "error",
     "traceback": [
      "\u001b[91mUndefVarError: marglinal not defined\u001b[39m",
      "",
      "Stacktrace:",
      " [1] top-level scope at In[4]:1"
     ]
    }
   ],
   "source": [
    "marglinal"
   ]
  }
 ],
 "metadata": {
  "kernelspec": {
   "display_name": "Julia 1.4.1",
   "language": "julia",
   "name": "julia-1.4"
  },
  "language_info": {
   "file_extension": ".jl",
   "mimetype": "application/julia",
   "name": "julia",
   "version": "1.4.1"
  }
 },
 "nbformat": 4,
 "nbformat_minor": 5
}
